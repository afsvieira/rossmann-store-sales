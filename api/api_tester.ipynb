{
 "cells": [
  {
   "cell_type": "markdown",
   "id": "abe56f23",
   "metadata": {},
   "source": [
    "# API TESTER"
   ]
  },
  {
   "cell_type": "code",
   "execution_count": 1,
   "id": "04a8d1b1",
   "metadata": {
    "ExecuteTime": {
     "end_time": "2022-08-25T00:54:03.004206Z",
     "start_time": "2022-08-25T00:54:01.022906Z"
    }
   },
   "outputs": [],
   "source": [
    "#import libraries\n",
    "import requests\n",
    "import pandas as pd\n"
   ]
  },
  {
   "cell_type": "code",
   "execution_count": 2,
   "id": "c3792332",
   "metadata": {
    "ExecuteTime": {
     "end_time": "2022-08-25T00:54:05.702828Z",
     "start_time": "2022-08-25T00:54:05.547723Z"
    }
   },
   "outputs": [],
   "source": [
    "df = pd.read_csv('../data/test.csv')\n",
    "df_store_raw = pd.read_csv('../data/store.csv')\n",
    "\n",
    "#merge test dataset + store\n",
    "df_test = pd.merge(df, df_store_raw, how='left', on='Store')\n",
    "\n",
    "#choose store for prediction\n",
    "df_test = df_test[df_test['Store'].isin([8])]\n",
    "\n",
    "#remove closed days\n",
    "df_test = df_test[df_test['Open'] != 0]\n",
    "df_test = df_test[~df_test['Open'].isnull()]\n",
    "df_test = df_test.drop('Id', axis=1)\n",
    "\n"
   ]
  },
  {
   "cell_type": "code",
   "execution_count": 3,
   "id": "f1ef0b69",
   "metadata": {
    "ExecuteTime": {
     "end_time": "2022-08-25T00:54:08.089321Z",
     "start_time": "2022-08-25T00:54:08.065514Z"
    }
   },
   "outputs": [],
   "source": [
    "#convert Dataframe to json\n",
    "data = json.dumps(df_test.to_dict(orient='records'))"
   ]
  },
  {
   "cell_type": "code",
   "execution_count": 4,
   "id": "6d161705",
   "metadata": {
    "ExecuteTime": {
     "end_time": "2022-08-25T00:54:37.719170Z",
     "start_time": "2022-08-25T00:54:10.984964Z"
    }
   },
   "outputs": [
    {
     "name": "stdout",
     "output_type": "stream",
     "text": [
      "Status Code 200\n"
     ]
    }
   ],
   "source": [
    "#API Call\n",
    "\n",
    "url = 'https://rosmann-prediction-model.herokuapp.com/rossmann/predict'\n",
    "header = {'Content-type': 'application/json'}\n",
    "data =  data\n",
    "\n",
    "r = requests.post(url, data=data, headers=header)\n",
    "print('Status Code {}'.format(r.status_code))"
   ]
  },
  {
   "cell_type": "code",
   "execution_count": 5,
   "id": "566a12f2",
   "metadata": {
    "ExecuteTime": {
     "end_time": "2022-08-25T00:54:40.665059Z",
     "start_time": "2022-08-25T00:54:40.647211Z"
    }
   },
   "outputs": [],
   "source": [
    "#convert response to DataFrame\n",
    "df_result = pd.DataFrame(r.json(), columns=r.json()[0].keys())"
   ]
  },
  {
   "cell_type": "code",
   "execution_count": 7,
   "id": "af62b378",
   "metadata": {
    "ExecuteTime": {
     "end_time": "2022-08-25T00:54:56.830262Z",
     "start_time": "2022-08-25T00:54:56.812616Z"
    }
   },
   "outputs": [
    {
     "name": "stdout",
     "output_type": "stream",
     "text": [
      "Store Number 8 will sell $191,431.99 in the next 6 weeks\n"
     ]
    }
   ],
   "source": [
    "#Showing result for next 6 weeks\n",
    "df_result = df_result[['store', 'prediction']].groupby('store').sum().reset_index()\n",
    "\n",
    "for i in range(len(df_result)):\n",
    "    print('Store Number {} will sell ${:,.2f} in the next 6 weeks'.format(\n",
    "    df_result.loc[i, 'store'],\n",
    "    df_result.loc[i, 'prediction']))"
   ]
  }
 ],
 "metadata": {
  "kernelspec": {
   "display_name": "Python 3 (ipykernel)",
   "language": "python",
   "name": "python3"
  },
  "language_info": {
   "codemirror_mode": {
    "name": "ipython",
    "version": 3
   },
   "file_extension": ".py",
   "mimetype": "text/x-python",
   "name": "python",
   "nbconvert_exporter": "python",
   "pygments_lexer": "ipython3",
   "version": "3.9.13"
  }
 },
 "nbformat": 4,
 "nbformat_minor": 5
}
